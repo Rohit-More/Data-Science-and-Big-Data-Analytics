{
 "cells": [
  {
   "cell_type": "code",
   "execution_count": 2,
   "metadata": {},
   "outputs": [],
   "source": [
    "#ROHIT MORE TECOB237\n",
    "import pandas as pd\n",
    "import matplotlib.pyplot as plt\n",
    "import seaborn as sns\n",
    "%matplotlib inline"
   ]
  },
  {
   "cell_type": "code",
   "execution_count": 4,
   "metadata": {},
   "outputs": [],
   "source": [
    "df=pd.read_csv('Social_Network_Ads.csv')"
   ]
  },
  {
   "cell_type": "code",
   "execution_count": 5,
   "metadata": {},
   "outputs": [
    {
     "data": {
      "text/html": [
       "<div>\n",
       "<style scoped>\n",
       "    .dataframe tbody tr th:only-of-type {\n",
       "        vertical-align: middle;\n",
       "    }\n",
       "\n",
       "    .dataframe tbody tr th {\n",
       "        vertical-align: top;\n",
       "    }\n",
       "\n",
       "    .dataframe thead th {\n",
       "        text-align: right;\n",
       "    }\n",
       "</style>\n",
       "<table border=\"1\" class=\"dataframe\">\n",
       "  <thead>\n",
       "    <tr style=\"text-align: right;\">\n",
       "      <th></th>\n",
       "      <th>User ID</th>\n",
       "      <th>Gender</th>\n",
       "      <th>Age</th>\n",
       "      <th>EstimatedSalary</th>\n",
       "      <th>Purchased</th>\n",
       "    </tr>\n",
       "  </thead>\n",
       "  <tbody>\n",
       "    <tr>\n",
       "      <th>0</th>\n",
       "      <td>15624510</td>\n",
       "      <td>Male</td>\n",
       "      <td>19</td>\n",
       "      <td>19000</td>\n",
       "      <td>0</td>\n",
       "    </tr>\n",
       "    <tr>\n",
       "      <th>1</th>\n",
       "      <td>15810944</td>\n",
       "      <td>Male</td>\n",
       "      <td>35</td>\n",
       "      <td>20000</td>\n",
       "      <td>0</td>\n",
       "    </tr>\n",
       "    <tr>\n",
       "      <th>2</th>\n",
       "      <td>15668575</td>\n",
       "      <td>Female</td>\n",
       "      <td>26</td>\n",
       "      <td>43000</td>\n",
       "      <td>0</td>\n",
       "    </tr>\n",
       "    <tr>\n",
       "      <th>3</th>\n",
       "      <td>15603246</td>\n",
       "      <td>Female</td>\n",
       "      <td>27</td>\n",
       "      <td>57000</td>\n",
       "      <td>0</td>\n",
       "    </tr>\n",
       "    <tr>\n",
       "      <th>4</th>\n",
       "      <td>15804002</td>\n",
       "      <td>Male</td>\n",
       "      <td>19</td>\n",
       "      <td>76000</td>\n",
       "      <td>0</td>\n",
       "    </tr>\n",
       "  </tbody>\n",
       "</table>\n",
       "</div>"
      ],
      "text/plain": [
       "    User ID  Gender  Age  EstimatedSalary  Purchased\n",
       "0  15624510    Male   19            19000          0\n",
       "1  15810944    Male   35            20000          0\n",
       "2  15668575  Female   26            43000          0\n",
       "3  15603246  Female   27            57000          0\n",
       "4  15804002    Male   19            76000          0"
      ]
     },
     "execution_count": 5,
     "metadata": {},
     "output_type": "execute_result"
    }
   ],
   "source": [
    "df.head()"
   ]
  },
  {
   "cell_type": "code",
   "execution_count": 6,
   "metadata": {},
   "outputs": [
    {
     "data": {
      "text/html": [
       "<div>\n",
       "<style scoped>\n",
       "    .dataframe tbody tr th:only-of-type {\n",
       "        vertical-align: middle;\n",
       "    }\n",
       "\n",
       "    .dataframe tbody tr th {\n",
       "        vertical-align: top;\n",
       "    }\n",
       "\n",
       "    .dataframe thead th {\n",
       "        text-align: right;\n",
       "    }\n",
       "</style>\n",
       "<table border=\"1\" class=\"dataframe\">\n",
       "  <thead>\n",
       "    <tr style=\"text-align: right;\">\n",
       "      <th></th>\n",
       "      <th>User ID</th>\n",
       "      <th>Gender</th>\n",
       "      <th>Age</th>\n",
       "      <th>EstimatedSalary</th>\n",
       "      <th>Purchased</th>\n",
       "    </tr>\n",
       "  </thead>\n",
       "  <tbody>\n",
       "    <tr>\n",
       "      <th>395</th>\n",
       "      <td>15691863</td>\n",
       "      <td>Female</td>\n",
       "      <td>46</td>\n",
       "      <td>41000</td>\n",
       "      <td>1</td>\n",
       "    </tr>\n",
       "    <tr>\n",
       "      <th>396</th>\n",
       "      <td>15706071</td>\n",
       "      <td>Male</td>\n",
       "      <td>51</td>\n",
       "      <td>23000</td>\n",
       "      <td>1</td>\n",
       "    </tr>\n",
       "    <tr>\n",
       "      <th>397</th>\n",
       "      <td>15654296</td>\n",
       "      <td>Female</td>\n",
       "      <td>50</td>\n",
       "      <td>20000</td>\n",
       "      <td>1</td>\n",
       "    </tr>\n",
       "    <tr>\n",
       "      <th>398</th>\n",
       "      <td>15755018</td>\n",
       "      <td>Male</td>\n",
       "      <td>36</td>\n",
       "      <td>33000</td>\n",
       "      <td>0</td>\n",
       "    </tr>\n",
       "    <tr>\n",
       "      <th>399</th>\n",
       "      <td>15594041</td>\n",
       "      <td>Female</td>\n",
       "      <td>49</td>\n",
       "      <td>36000</td>\n",
       "      <td>1</td>\n",
       "    </tr>\n",
       "  </tbody>\n",
       "</table>\n",
       "</div>"
      ],
      "text/plain": [
       "      User ID  Gender  Age  EstimatedSalary  Purchased\n",
       "395  15691863  Female   46            41000          1\n",
       "396  15706071    Male   51            23000          1\n",
       "397  15654296  Female   50            20000          1\n",
       "398  15755018    Male   36            33000          0\n",
       "399  15594041  Female   49            36000          1"
      ]
     },
     "execution_count": 6,
     "metadata": {},
     "output_type": "execute_result"
    }
   ],
   "source": [
    "df.tail()"
   ]
  },
  {
   "cell_type": "code",
   "execution_count": 7,
   "metadata": {},
   "outputs": [
    {
     "data": {
      "text/plain": [
       "(400, 5)"
      ]
     },
     "execution_count": 7,
     "metadata": {},
     "output_type": "execute_result"
    }
   ],
   "source": [
    "df.shape"
   ]
  },
  {
   "cell_type": "code",
   "execution_count": 8,
   "metadata": {},
   "outputs": [
    {
     "data": {
      "text/plain": [
       "User ID            0\n",
       "Gender             0\n",
       "Age                0\n",
       "EstimatedSalary    0\n",
       "Purchased          0\n",
       "dtype: int64"
      ]
     },
     "execution_count": 8,
     "metadata": {},
     "output_type": "execute_result"
    }
   ],
   "source": [
    "df.isnull().sum()"
   ]
  },
  {
   "cell_type": "code",
   "execution_count": 9,
   "metadata": {},
   "outputs": [
    {
     "data": {
      "text/html": [
       "<div>\n",
       "<style scoped>\n",
       "    .dataframe tbody tr th:only-of-type {\n",
       "        vertical-align: middle;\n",
       "    }\n",
       "\n",
       "    .dataframe tbody tr th {\n",
       "        vertical-align: top;\n",
       "    }\n",
       "\n",
       "    .dataframe thead th {\n",
       "        text-align: right;\n",
       "    }\n",
       "</style>\n",
       "<table border=\"1\" class=\"dataframe\">\n",
       "  <thead>\n",
       "    <tr style=\"text-align: right;\">\n",
       "      <th></th>\n",
       "      <th>User ID</th>\n",
       "      <th>Age</th>\n",
       "      <th>EstimatedSalary</th>\n",
       "      <th>Purchased</th>\n",
       "    </tr>\n",
       "  </thead>\n",
       "  <tbody>\n",
       "    <tr>\n",
       "      <th>count</th>\n",
       "      <td>4.000000e+02</td>\n",
       "      <td>400.000000</td>\n",
       "      <td>400.000000</td>\n",
       "      <td>400.000000</td>\n",
       "    </tr>\n",
       "    <tr>\n",
       "      <th>mean</th>\n",
       "      <td>1.569154e+07</td>\n",
       "      <td>37.655000</td>\n",
       "      <td>69742.500000</td>\n",
       "      <td>0.357500</td>\n",
       "    </tr>\n",
       "    <tr>\n",
       "      <th>std</th>\n",
       "      <td>7.165832e+04</td>\n",
       "      <td>10.482877</td>\n",
       "      <td>34096.960282</td>\n",
       "      <td>0.479864</td>\n",
       "    </tr>\n",
       "    <tr>\n",
       "      <th>min</th>\n",
       "      <td>1.556669e+07</td>\n",
       "      <td>18.000000</td>\n",
       "      <td>15000.000000</td>\n",
       "      <td>0.000000</td>\n",
       "    </tr>\n",
       "    <tr>\n",
       "      <th>25%</th>\n",
       "      <td>1.562676e+07</td>\n",
       "      <td>29.750000</td>\n",
       "      <td>43000.000000</td>\n",
       "      <td>0.000000</td>\n",
       "    </tr>\n",
       "    <tr>\n",
       "      <th>50%</th>\n",
       "      <td>1.569434e+07</td>\n",
       "      <td>37.000000</td>\n",
       "      <td>70000.000000</td>\n",
       "      <td>0.000000</td>\n",
       "    </tr>\n",
       "    <tr>\n",
       "      <th>75%</th>\n",
       "      <td>1.575036e+07</td>\n",
       "      <td>46.000000</td>\n",
       "      <td>88000.000000</td>\n",
       "      <td>1.000000</td>\n",
       "    </tr>\n",
       "    <tr>\n",
       "      <th>max</th>\n",
       "      <td>1.581524e+07</td>\n",
       "      <td>60.000000</td>\n",
       "      <td>150000.000000</td>\n",
       "      <td>1.000000</td>\n",
       "    </tr>\n",
       "  </tbody>\n",
       "</table>\n",
       "</div>"
      ],
      "text/plain": [
       "            User ID         Age  EstimatedSalary   Purchased\n",
       "count  4.000000e+02  400.000000       400.000000  400.000000\n",
       "mean   1.569154e+07   37.655000     69742.500000    0.357500\n",
       "std    7.165832e+04   10.482877     34096.960282    0.479864\n",
       "min    1.556669e+07   18.000000     15000.000000    0.000000\n",
       "25%    1.562676e+07   29.750000     43000.000000    0.000000\n",
       "50%    1.569434e+07   37.000000     70000.000000    0.000000\n",
       "75%    1.575036e+07   46.000000     88000.000000    1.000000\n",
       "max    1.581524e+07   60.000000    150000.000000    1.000000"
      ]
     },
     "execution_count": 9,
     "metadata": {},
     "output_type": "execute_result"
    }
   ],
   "source": [
    "df.describe()"
   ]
  },
  {
   "cell_type": "code",
   "execution_count": 10,
   "metadata": {
    "scrolled": true
   },
   "outputs": [
    {
     "name": "stdout",
     "output_type": "stream",
     "text": [
      "<class 'pandas.core.frame.DataFrame'>\n",
      "RangeIndex: 400 entries, 0 to 399\n",
      "Data columns (total 5 columns):\n",
      " #   Column           Non-Null Count  Dtype \n",
      "---  ------           --------------  ----- \n",
      " 0   User ID          400 non-null    int64 \n",
      " 1   Gender           400 non-null    object\n",
      " 2   Age              400 non-null    int64 \n",
      " 3   EstimatedSalary  400 non-null    int64 \n",
      " 4   Purchased        400 non-null    int64 \n",
      "dtypes: int64(4), object(1)\n",
      "memory usage: 15.8+ KB\n"
     ]
    }
   ],
   "source": [
    "df.info()"
   ]
  },
  {
   "cell_type": "code",
   "execution_count": 11,
   "metadata": {},
   "outputs": [
    {
     "data": {
      "text/plain": [
       "Index(['User ID', 'Gender', 'Age', 'EstimatedSalary', 'Purchased'], dtype='object')"
      ]
     },
     "execution_count": 11,
     "metadata": {},
     "output_type": "execute_result"
    }
   ],
   "source": [
    "df.columns"
   ]
  },
  {
   "cell_type": "code",
   "execution_count": 12,
   "metadata": {},
   "outputs": [],
   "source": [
    "df.drop('User ID', axis=1, inplace=True)"
   ]
  },
  {
   "cell_type": "code",
   "execution_count": 13,
   "metadata": {},
   "outputs": [
    {
     "data": {
      "text/html": [
       "<div>\n",
       "<style scoped>\n",
       "    .dataframe tbody tr th:only-of-type {\n",
       "        vertical-align: middle;\n",
       "    }\n",
       "\n",
       "    .dataframe tbody tr th {\n",
       "        vertical-align: top;\n",
       "    }\n",
       "\n",
       "    .dataframe thead th {\n",
       "        text-align: right;\n",
       "    }\n",
       "</style>\n",
       "<table border=\"1\" class=\"dataframe\">\n",
       "  <thead>\n",
       "    <tr style=\"text-align: right;\">\n",
       "      <th></th>\n",
       "      <th>Gender</th>\n",
       "      <th>Age</th>\n",
       "      <th>EstimatedSalary</th>\n",
       "      <th>Purchased</th>\n",
       "    </tr>\n",
       "  </thead>\n",
       "  <tbody>\n",
       "    <tr>\n",
       "      <th>0</th>\n",
       "      <td>Male</td>\n",
       "      <td>19</td>\n",
       "      <td>19000</td>\n",
       "      <td>0</td>\n",
       "    </tr>\n",
       "    <tr>\n",
       "      <th>1</th>\n",
       "      <td>Male</td>\n",
       "      <td>35</td>\n",
       "      <td>20000</td>\n",
       "      <td>0</td>\n",
       "    </tr>\n",
       "    <tr>\n",
       "      <th>2</th>\n",
       "      <td>Female</td>\n",
       "      <td>26</td>\n",
       "      <td>43000</td>\n",
       "      <td>0</td>\n",
       "    </tr>\n",
       "    <tr>\n",
       "      <th>3</th>\n",
       "      <td>Female</td>\n",
       "      <td>27</td>\n",
       "      <td>57000</td>\n",
       "      <td>0</td>\n",
       "    </tr>\n",
       "    <tr>\n",
       "      <th>4</th>\n",
       "      <td>Male</td>\n",
       "      <td>19</td>\n",
       "      <td>76000</td>\n",
       "      <td>0</td>\n",
       "    </tr>\n",
       "    <tr>\n",
       "      <th>...</th>\n",
       "      <td>...</td>\n",
       "      <td>...</td>\n",
       "      <td>...</td>\n",
       "      <td>...</td>\n",
       "    </tr>\n",
       "    <tr>\n",
       "      <th>395</th>\n",
       "      <td>Female</td>\n",
       "      <td>46</td>\n",
       "      <td>41000</td>\n",
       "      <td>1</td>\n",
       "    </tr>\n",
       "    <tr>\n",
       "      <th>396</th>\n",
       "      <td>Male</td>\n",
       "      <td>51</td>\n",
       "      <td>23000</td>\n",
       "      <td>1</td>\n",
       "    </tr>\n",
       "    <tr>\n",
       "      <th>397</th>\n",
       "      <td>Female</td>\n",
       "      <td>50</td>\n",
       "      <td>20000</td>\n",
       "      <td>1</td>\n",
       "    </tr>\n",
       "    <tr>\n",
       "      <th>398</th>\n",
       "      <td>Male</td>\n",
       "      <td>36</td>\n",
       "      <td>33000</td>\n",
       "      <td>0</td>\n",
       "    </tr>\n",
       "    <tr>\n",
       "      <th>399</th>\n",
       "      <td>Female</td>\n",
       "      <td>49</td>\n",
       "      <td>36000</td>\n",
       "      <td>1</td>\n",
       "    </tr>\n",
       "  </tbody>\n",
       "</table>\n",
       "<p>400 rows × 4 columns</p>\n",
       "</div>"
      ],
      "text/plain": [
       "     Gender  Age  EstimatedSalary  Purchased\n",
       "0      Male   19            19000          0\n",
       "1      Male   35            20000          0\n",
       "2    Female   26            43000          0\n",
       "3    Female   27            57000          0\n",
       "4      Male   19            76000          0\n",
       "..      ...  ...              ...        ...\n",
       "395  Female   46            41000          1\n",
       "396    Male   51            23000          1\n",
       "397  Female   50            20000          1\n",
       "398    Male   36            33000          0\n",
       "399  Female   49            36000          1\n",
       "\n",
       "[400 rows x 4 columns]"
      ]
     },
     "execution_count": 13,
     "metadata": {},
     "output_type": "execute_result"
    }
   ],
   "source": [
    "df"
   ]
  },
  {
   "cell_type": "code",
   "execution_count": 14,
   "metadata": {},
   "outputs": [
    {
     "data": {
      "text/html": [
       "<div>\n",
       "<style scoped>\n",
       "    .dataframe tbody tr th:only-of-type {\n",
       "        vertical-align: middle;\n",
       "    }\n",
       "\n",
       "    .dataframe tbody tr th {\n",
       "        vertical-align: top;\n",
       "    }\n",
       "\n",
       "    .dataframe thead th {\n",
       "        text-align: right;\n",
       "    }\n",
       "</style>\n",
       "<table border=\"1\" class=\"dataframe\">\n",
       "  <thead>\n",
       "    <tr style=\"text-align: right;\">\n",
       "      <th></th>\n",
       "      <th>Age</th>\n",
       "      <th>EstimatedSalary</th>\n",
       "      <th>Purchased</th>\n",
       "    </tr>\n",
       "  </thead>\n",
       "  <tbody>\n",
       "    <tr>\n",
       "      <th>Age</th>\n",
       "      <td>1.000000</td>\n",
       "      <td>0.155238</td>\n",
       "      <td>0.622454</td>\n",
       "    </tr>\n",
       "    <tr>\n",
       "      <th>EstimatedSalary</th>\n",
       "      <td>0.155238</td>\n",
       "      <td>1.000000</td>\n",
       "      <td>0.362083</td>\n",
       "    </tr>\n",
       "    <tr>\n",
       "      <th>Purchased</th>\n",
       "      <td>0.622454</td>\n",
       "      <td>0.362083</td>\n",
       "      <td>1.000000</td>\n",
       "    </tr>\n",
       "  </tbody>\n",
       "</table>\n",
       "</div>"
      ],
      "text/plain": [
       "                      Age  EstimatedSalary  Purchased\n",
       "Age              1.000000         0.155238   0.622454\n",
       "EstimatedSalary  0.155238         1.000000   0.362083\n",
       "Purchased        0.622454         0.362083   1.000000"
      ]
     },
     "execution_count": 14,
     "metadata": {},
     "output_type": "execute_result"
    }
   ],
   "source": [
    "df.corr()"
   ]
  },
  {
   "cell_type": "code",
   "execution_count": 16,
   "metadata": {},
   "outputs": [
    {
     "data": {
      "text/plain": [
       "<matplotlib.axes._subplots.AxesSubplot at 0x7f9daac00a90>"
      ]
     },
     "execution_count": 16,
     "metadata": {},
     "output_type": "execute_result"
    },
    {
     "data": {
      "image/png": "[encoded data removed]",
      "text/plain": [
       "<Figure size 432x288 with 2 Axes>"
      ]
     },
     "metadata": {
      "needs_background": "light"
     },
     "output_type": "display_data"
    }
   ],
   "source": [
    "sns.heatmap(df.corr(), annot=True)"
   ]
  },
  {
   "cell_type": "code",
   "execution_count": 18,
   "metadata": {},
   "outputs": [],
   "source": [
    "X=df.drop(['Gender', 'Purchased'], axis=1)\n",
    "Y=df['Purchased']"
   ]
  },
  {
   "cell_type": "code",
   "execution_count": 20,
   "metadata": {},
   "outputs": [
    {
     "data": {
      "text/html": [
       "<div>\n",
       "<style scoped>\n",
       "    .dataframe tbody tr th:only-of-type {\n",
       "        vertical-align: middle;\n",
       "    }\n",
       "\n",
       "    .dataframe tbody tr th {\n",
       "        vertical-align: top;\n",
       "    }\n",
       "\n",
       "    .dataframe thead th {\n",
       "        text-align: right;\n",
       "    }\n",
       "</style>\n",
       "<table border=\"1\" class=\"dataframe\">\n",
       "  <thead>\n",
       "    <tr style=\"text-align: right;\">\n",
       "      <th></th>\n",
       "      <th>Age</th>\n",
       "      <th>EstimatedSalary</th>\n",
       "    </tr>\n",
       "  </thead>\n",
       "  <tbody>\n",
       "    <tr>\n",
       "      <th>0</th>\n",
       "      <td>19</td>\n",
       "      <td>19000</td>\n",
       "    </tr>\n",
       "    <tr>\n",
       "      <th>1</th>\n",
       "      <td>35</td>\n",
       "      <td>20000</td>\n",
       "    </tr>\n",
       "    <tr>\n",
       "      <th>2</th>\n",
       "      <td>26</td>\n",
       "      <td>43000</td>\n",
       "    </tr>\n",
       "    <tr>\n",
       "      <th>3</th>\n",
       "      <td>27</td>\n",
       "      <td>57000</td>\n",
       "    </tr>\n",
       "    <tr>\n",
       "      <th>4</th>\n",
       "      <td>19</td>\n",
       "      <td>76000</td>\n",
       "    </tr>\n",
       "    <tr>\n",
       "      <th>...</th>\n",
       "      <td>...</td>\n",
       "      <td>...</td>\n",
       "    </tr>\n",
       "    <tr>\n",
       "      <th>395</th>\n",
       "      <td>46</td>\n",
       "      <td>41000</td>\n",
       "    </tr>\n",
       "    <tr>\n",
       "      <th>396</th>\n",
       "      <td>51</td>\n",
       "      <td>23000</td>\n",
       "    </tr>\n",
       "    <tr>\n",
       "      <th>397</th>\n",
       "      <td>50</td>\n",
       "      <td>20000</td>\n",
       "    </tr>\n",
       "    <tr>\n",
       "      <th>398</th>\n",
       "      <td>36</td>\n",
       "      <td>33000</td>\n",
       "    </tr>\n",
       "    <tr>\n",
       "      <th>399</th>\n",
       "      <td>49</td>\n",
       "      <td>36000</td>\n",
       "    </tr>\n",
       "  </tbody>\n",
       "</table>\n",
       "<p>400 rows × 2 columns</p>\n",
       "</div>"
      ],
      "text/plain": [
       "     Age  EstimatedSalary\n",
       "0     19            19000\n",
       "1     35            20000\n",
       "2     26            43000\n",
       "3     27            57000\n",
       "4     19            76000\n",
       "..   ...              ...\n",
       "395   46            41000\n",
       "396   51            23000\n",
       "397   50            20000\n",
       "398   36            33000\n",
       "399   49            36000\n",
       "\n",
       "[400 rows x 2 columns]"
      ]
     },
     "execution_count": 20,
     "metadata": {},
     "output_type": "execute_result"
    }
   ],
   "source": [
    "X"
   ]
  },
  {
   "cell_type": "code",
   "execution_count": 21,
   "metadata": {},
   "outputs": [
    {
     "data": {
      "text/plain": [
       "0      0\n",
       "1      0\n",
       "2      0\n",
       "3      0\n",
       "4      0\n",
       "      ..\n",
       "395    1\n",
       "396    1\n",
       "397    1\n",
       "398    0\n",
       "399    1\n",
       "Name: Purchased, Length: 400, dtype: int64"
      ]
     },
     "execution_count": 21,
     "metadata": {},
     "output_type": "execute_result"
    }
   ],
   "source": [
    "Y"
   ]
  },
  {
   "cell_type": "markdown",
   "metadata": {},
   "source": [
    "# Split Data into train and test set"
   ]
  },
  {
   "cell_type": "code",
   "execution_count": 22,
   "metadata": {},
   "outputs": [],
   "source": [
    "from sklearn.model_selection import train_test_split\n",
    "X_train, X_test, y_train, y_test=train_test_split(X, Y, test_size=0.2)"
   ]
  },
  {
   "cell_type": "code",
   "execution_count": 24,
   "metadata": {},
   "outputs": [
    {
     "data": {
      "text/plain": [
       "(320, 2)"
      ]
     },
     "execution_count": 24,
     "metadata": {},
     "output_type": "execute_result"
    }
   ],
   "source": [
    "X_train.shape"
   ]
  },
  {
   "cell_type": "code",
   "execution_count": 23,
   "metadata": {
    "scrolled": true
   },
   "outputs": [
    {
     "data": {
      "text/plain": [
       "(80, 2)"
      ]
     },
     "execution_count": 23,
     "metadata": {},
     "output_type": "execute_result"
    }
   ],
   "source": [
    "X_test.shape"
   ]
  },
  {
   "cell_type": "markdown",
   "metadata": {},
   "source": [
    "# Without Normalization of Dataset\n",
    "Build the model\n"
   ]
  },
  {
   "cell_type": "code",
   "execution_count": 25,
   "metadata": {},
   "outputs": [
    {
     "name": "stdout",
     "output_type": "stream",
     "text": [
      "Accuracy of base model is  64.375\n"
     ]
    }
   ],
   "source": [
    "from sklearn.linear_model import LogisticRegression\n",
    "basemodel=LogisticRegression()\n",
    "basemodel.fit(X_train, y_train)\n",
    "print(\"Accuracy of training is \", basemodel.score(X_train, y_train)*100)"
   ]
  },
  {
   "cell_type": "markdown",
   "metadata": {},
   "source": [
    "Test the model"
   ]
  },
  {
   "cell_type": "code",
   "execution_count": 27,
   "metadata": {},
   "outputs": [
    {
     "name": "stdout",
     "output_type": "stream",
     "text": [
      "Accuracy of testing is  63.74999999999999\n"
     ]
    }
   ],
   "source": [
    "y_predict=basemodel.predict(X_test)\n",
    "print(\"Accuracy of testing is \", basemodel.score(X_test, y_test)*100)"
   ]
  },
  {
   "cell_type": "markdown",
   "metadata": {},
   "source": [
    "# With Normalization of Dataset"
   ]
  },
  {
   "cell_type": "markdown",
   "metadata": {},
   "source": [
    "Apply Min-Max Normalization technique "
   ]
  },
  {
   "cell_type": "code",
   "execution_count": 28,
   "metadata": {},
   "outputs": [],
   "source": [
    "from sklearn.preprocessing import MinMaxScaler\n",
    "scaler=MinMaxScaler()"
   ]
  },
  {
   "cell_type": "code",
   "execution_count": 30,
   "metadata": {},
   "outputs": [
    {
     "data": {
      "text/plain": [
       "array([[0.02380952, 0.02962963],\n",
       "       [0.4047619 , 0.03703704],\n",
       "       [0.19047619, 0.20740741],\n",
       "       [0.21428571, 0.31111111],\n",
       "       [0.02380952, 0.45185185],\n",
       "       [0.21428571, 0.31851852],\n",
       "       [0.21428571, 0.51111111],\n",
       "       [0.33333333, 1.        ],\n",
       "       [0.16666667, 0.13333333],\n",
       "       [0.4047619 , 0.37037037],\n",
       "       [0.19047619, 0.48148148],\n",
       "       [0.19047619, 0.27407407],\n",
       "       [0.04761905, 0.52592593],\n",
       "       [0.33333333, 0.02222222],\n",
       "       [0.        , 0.4962963 ],\n",
       "       [0.26190476, 0.48148148],\n",
       "       [0.69047619, 0.07407407],\n",
       "       [0.64285714, 0.08148148],\n",
       "       [0.66666667, 0.0962963 ],\n",
       "       [0.71428571, 0.1037037 ],\n",
       "       [0.64285714, 0.05185185],\n",
       "       [0.69047619, 0.25185185],\n",
       "       [0.71428571, 0.19259259],\n",
       "       [0.64285714, 0.05185185],\n",
       "       [0.66666667, 0.05925926],\n",
       "       [0.69047619, 0.03703704],\n",
       "       [0.73809524, 0.0962963 ],\n",
       "       [0.69047619, 0.11111111],\n",
       "       [0.26190476, 0.20740741],\n",
       "       [0.30952381, 0.02222222],\n",
       "       [0.30952381, 0.43703704],\n",
       "       [0.21428571, 0.9037037 ],\n",
       "       [0.07142857, 0.00740741],\n",
       "       [0.23809524, 0.21481481],\n",
       "       [0.21428571, 0.55555556],\n",
       "       [0.4047619 , 0.08888889],\n",
       "       [0.35714286, 0.0962963 ],\n",
       "       [0.28571429, 0.25185185],\n",
       "       [0.19047619, 0.42222222],\n",
       "       [0.21428571, 0.11851852],\n",
       "       [0.21428571, 0.01481481],\n",
       "       [0.35714286, 0.26666667],\n",
       "       [0.4047619 , 0.68888889],\n",
       "       [0.28571429, 0.        ],\n",
       "       [0.23809524, 0.51111111],\n",
       "       [0.11904762, 0.03703704],\n",
       "       [0.16666667, 0.47407407],\n",
       "       [0.21428571, 0.28888889],\n",
       "       [0.28571429, 0.88888889],\n",
       "       [0.30952381, 0.54814815],\n",
       "       [0.14285714, 0.12592593],\n",
       "       [0.        , 0.21481481],\n",
       "       [0.26190476, 0.5037037 ],\n",
       "       [0.4047619 , 0.05925926],\n",
       "       [0.21428571, 0.31851852],\n",
       "       [0.14285714, 0.2962963 ],\n",
       "       [0.11904762, 0.24444444],\n",
       "       [0.23809524, 0.47407407],\n",
       "       [0.0952381 , 0.02222222],\n",
       "       [0.33333333, 0.75555556],\n",
       "       [0.21428571, 0.03703704],\n",
       "       [0.16666667, 0.53333333],\n",
       "       [0.11904762, 0.37777778],\n",
       "       [0.33333333, 0.77777778],\n",
       "       [0.97619048, 0.5037037 ],\n",
       "       [0.14285714, 0.31851852],\n",
       "       [0.14285714, 0.02962963],\n",
       "       [0.11904762, 0.4962963 ],\n",
       "       [0.0952381 , 0.35555556],\n",
       "       [0.30952381, 0.39259259],\n",
       "       [0.16666667, 0.48148148],\n",
       "       [0.14285714, 0.08888889],\n",
       "       [0.04761905, 0.05925926],\n",
       "       [0.35714286, 0.72592593],\n",
       "       [0.33333333, 0.02222222],\n",
       "       [0.38095238, 0.71851852],\n",
       "       [0.        , 0.27407407],\n",
       "       [0.0952381 , 0.08888889],\n",
       "       [0.23809524, 0.53333333],\n",
       "       [0.19047619, 0.01481481],\n",
       "       [0.28571429, 0.48148148],\n",
       "       [0.5       , 0.2       ],\n",
       "       [0.04761905, 0.25185185],\n",
       "       [0.4047619 , 0.54074074],\n",
       "       [0.28571429, 0.34814815],\n",
       "       [0.30952381, 0.76296296],\n",
       "       [0.14285714, 0.2962963 ],\n",
       "       [0.23809524, 0.51851852],\n",
       "       [0.19047619, 0.48888889],\n",
       "       [0.4047619 , 0.25925926],\n",
       "       [0.0952381 , 0.48888889],\n",
       "       [0.28571429, 0.74814815],\n",
       "       [0.19047619, 0.        ],\n",
       "       [0.26190476, 0.0962963 ],\n",
       "       [0.26190476, 0.5037037 ],\n",
       "       [0.4047619 , 0.21481481],\n",
       "       [0.4047619 , 0.07407407],\n",
       "       [0.23809524, 0.8       ],\n",
       "       [0.4047619 , 0.42962963],\n",
       "       [0.23809524, 0.16296296],\n",
       "       [0.21428571, 0.54074074],\n",
       "       [0.23809524, 0.32592593],\n",
       "       [0.33333333, 0.52592593],\n",
       "       [0.35714286, 0.99259259],\n",
       "       [0.02380952, 0.04444444],\n",
       "       [0.07142857, 0.42222222],\n",
       "       [0.19047619, 0.14814815],\n",
       "       [0.21428571, 0.54814815],\n",
       "       [0.19047619, 0.52592593],\n",
       "       [0.47619048, 0.48148148],\n",
       "       [0.5       , 0.41481481],\n",
       "       [0.45238095, 0.41481481],\n",
       "       [0.47619048, 0.34074074],\n",
       "       [0.45238095, 0.2962963 ],\n",
       "       [0.57142857, 0.48148148],\n",
       "       [0.52380952, 0.31111111],\n",
       "       [0.4047619 , 0.44444444],\n",
       "       [0.42857143, 0.27407407],\n",
       "       [0.52380952, 0.32592593],\n",
       "       [0.54761905, 0.32592593],\n",
       "       [0.42857143, 0.44444444],\n",
       "       [0.45238095, 0.42222222],\n",
       "       [0.52380952, 0.44444444],\n",
       "       [0.4047619 , 0.28148148],\n",
       "       [0.54761905, 0.26666667],\n",
       "       [0.5       , 0.34074074],\n",
       "       [0.57142857, 0.37037037],\n",
       "       [0.19047619, 0.12592593],\n",
       "       [0.28571429, 0.01481481],\n",
       "       [0.19047619, 0.51111111],\n",
       "       [0.30952381, 0.31851852],\n",
       "       [0.35714286, 0.11851852],\n",
       "       [0.28571429, 0.53333333],\n",
       "       [0.07142857, 0.39259259],\n",
       "       [0.23809524, 0.2962963 ],\n",
       "       [0.11904762, 0.35555556],\n",
       "       [0.04761905, 0.4962963 ],\n",
       "       [0.28571429, 0.68148148],\n",
       "       [0.23809524, 0.32592593],\n",
       "       [0.02380952, 0.07407407],\n",
       "       [0.02380952, 0.51851852],\n",
       "       [0.        , 0.39259259],\n",
       "       [0.4047619 , 0.32592593],\n",
       "       [0.28571429, 0.54814815],\n",
       "       [0.38095238, 0.07407407],\n",
       "       [0.14285714, 0.54814815],\n",
       "       [0.21428571, 0.6       ],\n",
       "       [0.54761905, 0.11111111],\n",
       "       [0.26190476, 0.34074074],\n",
       "       [0.04761905, 0.43703704],\n",
       "       [0.19047619, 0.        ],\n",
       "       [0.54761905, 0.22222222],\n",
       "       [0.30952381, 0.45185185],\n",
       "       [0.42857143, 0.25925926],\n",
       "       [0.52380952, 0.23703704],\n",
       "       [0.30952381, 0.        ],\n",
       "       [0.66666667, 0.32592593],\n",
       "       [0.26190476, 0.44444444],\n",
       "       [0.19047619, 0.11111111],\n",
       "       [0.33333333, 0.88888889],\n",
       "       [0.33333333, 0.62962963],\n",
       "       [0.16666667, 0.55555556],\n",
       "       [0.45238095, 0.13333333],\n",
       "       [0.4047619 , 0.17037037],\n",
       "       [0.35714286, 0.4       ],\n",
       "       [0.        , 0.52592593],\n",
       "       [0.0952381 , 0.2962963 ],\n",
       "       [0.4047619 , 0.41481481],\n",
       "       [0.26190476, 0.98518519],\n",
       "       [0.26190476, 0.23703704],\n",
       "       [0.07142857, 0.54074074],\n",
       "       [0.38095238, 0.74074074],\n",
       "       [0.19047619, 0.76296296],\n",
       "       [0.38095238, 0.20740741],\n",
       "       [0.38095238, 0.42222222],\n",
       "       [0.11904762, 0.0962963 ],\n",
       "       [0.4047619 , 0.23703704],\n",
       "       [0.16666667, 0.05185185],\n",
       "       [0.14285714, 0.05925926],\n",
       "       [0.30952381, 0.14074074],\n",
       "       [0.19047619, 0.00740741],\n",
       "       [0.30952381, 0.41481481],\n",
       "       [0.33333333, 0.75555556],\n",
       "       [0.35714286, 0.20740741],\n",
       "       [0.35714286, 0.33333333],\n",
       "       [0.30952381, 0.37777778],\n",
       "       [0.04761905, 0.4962963 ],\n",
       "       [0.35714286, 0.19259259],\n",
       "       [0.4047619 , 0.42222222],\n",
       "       [0.23809524, 0.12592593],\n",
       "       [0.14285714, 0.51111111],\n",
       "       [0.02380952, 0.08148148],\n",
       "       [0.26190476, 0.20740741],\n",
       "       [0.02380952, 0.40740741],\n",
       "       [0.23809524, 0.54814815],\n",
       "       [0.38095238, 0.20740741],\n",
       "       [0.28571429, 0.47407407],\n",
       "       [0.04761905, 0.15555556],\n",
       "       [0.19047619, 0.48148148],\n",
       "       [0.4047619 , 0.05185185],\n",
       "       [0.4047619 , 0.17777778],\n",
       "       [0.73809524, 0.43703704],\n",
       "       [0.5       , 0.88148148],\n",
       "       [0.54761905, 0.41481481],\n",
       "       [0.95238095, 0.63703704],\n",
       "       [0.69047619, 0.23703704],\n",
       "       [0.88095238, 0.85185185],\n",
       "       [0.80952381, 0.73333333],\n",
       "       [0.52380952, 0.94074074],\n",
       "       [0.66666667, 0.05185185],\n",
       "       [0.71428571, 0.6       ],\n",
       "       [0.80952381, 1.        ],\n",
       "       [0.97619048, 0.2       ],\n",
       "       [0.4047619 , 0.31851852],\n",
       "       [0.69047619, 0.20740741],\n",
       "       [1.        , 0.68888889],\n",
       "       [0.73809524, 0.37037037],\n",
       "       [0.52380952, 0.46666667],\n",
       "       [0.66666667, 0.6       ],\n",
       "       [0.97619048, 0.94814815],\n",
       "       [0.54761905, 0.48148148],\n",
       "       [0.4047619 , 0.56296296],\n",
       "       [0.45238095, 0.95555556],\n",
       "       [1.        , 0.64444444],\n",
       "       [0.4047619 , 0.33333333],\n",
       "       [0.45238095, 0.28148148],\n",
       "       [0.42857143, 0.82222222],\n",
       "       [0.9047619 , 0.87407407],\n",
       "       [0.52380952, 0.42222222],\n",
       "       [0.57142857, 0.48148148],\n",
       "       [0.4047619 , 0.97777778],\n",
       "       [0.5       , 0.2       ],\n",
       "       [0.52380952, 0.68148148],\n",
       "       [0.73809524, 0.52592593],\n",
       "       [0.47619048, 0.71851852],\n",
       "       [0.66666667, 0.47407407],\n",
       "       [0.52380952, 0.31111111],\n",
       "       [0.45238095, 0.48148148],\n",
       "       [0.66666667, 0.4962963 ],\n",
       "       [0.83333333, 0.94814815],\n",
       "       [0.57142857, 0.99259259],\n",
       "       [0.47619048, 0.32592593],\n",
       "       [0.76190476, 0.54074074],\n",
       "       [0.9047619 , 0.65925926],\n",
       "       [0.54761905, 0.42222222],\n",
       "       [0.78571429, 0.97037037],\n",
       "       [0.4047619 , 0.25925926],\n",
       "       [0.92857143, 0.79259259],\n",
       "       [0.54761905, 0.27407407],\n",
       "       [0.4047619 , 0.60740741],\n",
       "       [0.61904762, 0.17777778],\n",
       "       [0.45238095, 0.27407407],\n",
       "       [0.71428571, 0.88148148],\n",
       "       [0.45238095, 0.97037037],\n",
       "       [0.76190476, 0.21481481],\n",
       "       [0.80952381, 0.55555556],\n",
       "       [0.54761905, 0.42222222],\n",
       "       [0.52380952, 0.31111111],\n",
       "       [0.95238095, 0.59259259],\n",
       "       [0.64285714, 0.85925926],\n",
       "       [0.4047619 , 0.45925926],\n",
       "       [0.42857143, 0.95555556],\n",
       "       [0.88095238, 0.81481481],\n",
       "       [0.4047619 , 0.42222222],\n",
       "       [0.71428571, 0.55555556],\n",
       "       [0.57142857, 0.68888889],\n",
       "       [0.52380952, 0.44444444],\n",
       "       [0.45238095, 0.43703704],\n",
       "       [0.69047619, 0.95555556],\n",
       "       [0.52380952, 0.34074074],\n",
       "       [0.5952381 , 0.87407407],\n",
       "       [0.97619048, 0.45185185],\n",
       "       [1.        , 0.2       ],\n",
       "       [0.5       , 0.67407407],\n",
       "       [0.92857143, 0.08148148],\n",
       "       [0.92857143, 0.43703704],\n",
       "       [0.47619048, 0.41481481],\n",
       "       [0.73809524, 0.54074074],\n",
       "       [0.80952381, 0.17037037],\n",
       "       [0.76190476, 0.15555556],\n",
       "       [0.97619048, 0.54074074],\n",
       "       [0.4047619 , 0.34074074],\n",
       "       [0.45238095, 0.40740741],\n",
       "       [0.80952381, 0.04444444],\n",
       "       [0.71428571, 0.93333333],\n",
       "       [0.45238095, 0.57777778],\n",
       "       [0.45238095, 0.34814815],\n",
       "       [0.71428571, 0.91111111],\n",
       "       [0.54761905, 0.47407407],\n",
       "       [0.45238095, 0.46666667],\n",
       "       [0.5       , 0.88148148],\n",
       "       [0.73809524, 0.54814815],\n",
       "       [0.88095238, 0.17777778],\n",
       "       [0.45238095, 0.45925926],\n",
       "       [0.4047619 , 0.31111111],\n",
       "       [0.42857143, 0.35555556],\n",
       "       [0.57142857, 0.42962963],\n",
       "       [0.5952381 , 0.71851852],\n",
       "       [0.64285714, 0.47407407],\n",
       "       [0.66666667, 0.75555556],\n",
       "       [0.95238095, 0.17037037],\n",
       "       [0.71428571, 0.43703704],\n",
       "       [0.45238095, 0.9037037 ],\n",
       "       [0.45238095, 0.47407407],\n",
       "       [0.52380952, 0.33333333],\n",
       "       [0.57142857, 0.28888889],\n",
       "       [0.78571429, 0.88148148],\n",
       "       [0.69047619, 0.72592593],\n",
       "       [0.42857143, 0.81481481],\n",
       "       [0.47619048, 0.25925926],\n",
       "       [0.57142857, 0.40740741],\n",
       "       [0.5       , 0.6       ],\n",
       "       [0.47619048, 0.25925926],\n",
       "       [0.73809524, 0.93333333],\n",
       "       [0.5       , 0.47407407],\n",
       "       [0.5       , 0.44444444],\n",
       "       [0.85714286, 0.65925926],\n",
       "       [0.4047619 , 0.2962963 ],\n",
       "       [0.64285714, 0.12592593],\n",
       "       [0.42857143, 0.33333333],\n",
       "       [0.80952381, 0.91111111],\n",
       "       [0.83333333, 0.4962963 ],\n",
       "       [0.54761905, 0.27407407],\n",
       "       [0.71428571, 0.11111111],\n",
       "       [0.71428571, 0.85925926],\n",
       "       [0.54761905, 0.33333333],\n",
       "       [0.54761905, 0.42222222],\n",
       "       [0.57142857, 0.44444444],\n",
       "       [0.42857143, 0.76296296],\n",
       "       [0.69047619, 0.68148148],\n",
       "       [0.47619048, 0.26666667],\n",
       "       [0.71428571, 0.77037037],\n",
       "       [0.57142857, 0.37037037],\n",
       "       [0.52380952, 0.37037037],\n",
       "       [0.92857143, 0.33333333],\n",
       "       [0.42857143, 0.28888889],\n",
       "       [0.95238095, 0.95555556],\n",
       "       [0.4047619 , 0.47407407],\n",
       "       [0.47619048, 0.2962963 ],\n",
       "       [0.5       , 0.79259259],\n",
       "       [0.83333333, 0.65925926],\n",
       "       [0.4047619 , 0.44444444],\n",
       "       [0.47619048, 0.37037037],\n",
       "       [0.69047619, 0.26666667],\n",
       "       [0.69047619, 0.66666667],\n",
       "       [0.54761905, 0.35555556],\n",
       "       [0.83333333, 0.42222222],\n",
       "       [0.85714286, 0.68888889],\n",
       "       [0.5       , 0.45925926],\n",
       "       [0.47619048, 0.34074074],\n",
       "       [0.47619048, 0.72592593],\n",
       "       [0.45238095, 0.44444444],\n",
       "       [0.57142857, 0.55555556],\n",
       "       [0.45238095, 0.31111111],\n",
       "       [0.42857143, 0.62222222],\n",
       "       [1.        , 0.14074074],\n",
       "       [0.85714286, 0.40740741],\n",
       "       [0.54761905, 0.42222222],\n",
       "       [0.52380952, 0.41481481],\n",
       "       [0.57142857, 0.28888889],\n",
       "       [0.5952381 , 0.84444444],\n",
       "       [0.83333333, 0.14074074],\n",
       "       [0.69047619, 0.25925926],\n",
       "       [0.57142857, 0.47407407],\n",
       "       [0.57142857, 0.65925926],\n",
       "       [0.97619048, 0.1037037 ],\n",
       "       [0.95238095, 0.23703704],\n",
       "       [0.66666667, 0.54074074],\n",
       "       [0.47619048, 0.41481481],\n",
       "       [0.85714286, 0.08148148],\n",
       "       [1.        , 0.22962963],\n",
       "       [1.        , 0.5037037 ],\n",
       "       [0.5       , 0.42962963],\n",
       "       [0.97619048, 0.85185185],\n",
       "       [0.45238095, 0.48148148],\n",
       "       [0.66666667, 0.12592593],\n",
       "       [0.66666667, 0.43703704],\n",
       "       [0.57142857, 0.28148148],\n",
       "       [0.54761905, 0.53333333],\n",
       "       [0.95238095, 0.05925926],\n",
       "       [0.57142857, 0.36296296],\n",
       "       [0.71428571, 0.13333333],\n",
       "       [0.61904762, 0.91851852],\n",
       "       [0.73809524, 0.0962963 ],\n",
       "       [0.92857143, 0.13333333],\n",
       "       [0.9047619 , 0.33333333],\n",
       "       [0.73809524, 0.17777778],\n",
       "       [0.5       , 0.41481481],\n",
       "       [0.69047619, 0.14074074],\n",
       "       [0.71428571, 0.14814815],\n",
       "       [0.71428571, 0.13333333],\n",
       "       [0.69047619, 0.05925926],\n",
       "       [0.64285714, 0.22222222],\n",
       "       [1.        , 0.2       ],\n",
       "       [0.5       , 0.32592593],\n",
       "       [0.66666667, 0.19259259],\n",
       "       [0.78571429, 0.05925926],\n",
       "       [0.76190476, 0.03703704],\n",
       "       [0.42857143, 0.13333333],\n",
       "       [0.73809524, 0.15555556]])"
      ]
     },
     "execution_count": 30,
     "metadata": {},
     "output_type": "execute_result"
    }
   ],
   "source": [
    "X=df[['Age', 'EstimatedSalary']]\n",
    "y=df['Purchased']\n",
    "X_scaled=scaler.fit_transform(X)\n",
    "X_scaled"
   ]
  },
  {
   "cell_type": "code",
   "execution_count": 31,
   "metadata": {},
   "outputs": [],
   "source": [
    "x_train, x_test, Y_train, Y_test=train_test_split(X_scaled, y, test_size=0.2)"
   ]
  },
  {
   "cell_type": "markdown",
   "metadata": {},
   "source": [
    "Build the model"
   ]
  },
  {
   "cell_type": "code",
   "execution_count": 32,
   "metadata": {},
   "outputs": [
    {
     "name": "stdout",
     "output_type": "stream",
     "text": [
      "Accuracy of training is  83.125\n"
     ]
    }
   ],
   "source": [
    "model=LogisticRegression()\n",
    "model.fit(x_train, Y_train)\n",
    "print(\"Accuracy of training is \", model.score(x_train, Y_train)*100)"
   ]
  },
  {
   "cell_type": "markdown",
   "metadata": {},
   "source": [
    "Test the model"
   ]
  },
  {
   "cell_type": "code",
   "execution_count": 33,
   "metadata": {
    "scrolled": true
   },
   "outputs": [
    {
     "name": "stdout",
     "output_type": "stream",
     "text": [
      "Accuracy of testing is  81.25\n"
     ]
    }
   ],
   "source": [
    "Y_predict=model.predict(x_test)\n",
    "print(\"Accuracy of testing is \", model.score(x_test, Y_test)*100)"
   ]
  },
  {
   "cell_type": "markdown",
   "metadata": {},
   "source": [
    "# Confusion-Matrix, Recall and Precision for Normalized Dataset"
   ]
  },
  {
   "cell_type": "code",
   "execution_count": 38,
   "metadata": {},
   "outputs": [
    {
     "name": "stdout",
     "output_type": "stream",
     "text": [
      "[[50  3]\n",
      " [12 15]]\n"
     ]
    }
   ],
   "source": [
    "from sklearn.metrics import confusion_matrix\n",
    "cm=confusion_matrix(Y_test, Y_predict)\n",
    "print(cm)"
   ]
  },
  {
   "cell_type": "code",
   "execution_count": 37,
   "metadata": {},
   "outputs": [
    {
     "name": "stdout",
     "output_type": "stream",
     "text": [
      "              precision    recall  f1-score   support\n",
      "\n",
      "           0       0.81      0.94      0.87        53\n",
      "           1       0.83      0.56      0.67        27\n",
      "\n",
      "    accuracy                           0.81        80\n",
      "   macro avg       0.82      0.75      0.77        80\n",
      "weighted avg       0.82      0.81      0.80        80\n",
      "\n"
     ]
    }
   ],
   "source": [
    "from sklearn.metrics import classification_report\n",
    "cr=classification_report(Y_test, Y_predict)\n",
    "print(cr)"
   ]
  },
  {
   "cell_type": "code",
   "execution_count": null,
   "metadata": {},
   "outputs": [],
   "source": []
  }
 ],
 "metadata": {
  "kernelspec": {
   "display_name": "Python 3",
   "language": "python",
   "name": "python3"
  },
  "language_info": {
   "codemirror_mode": {
    "name": "ipython",
    "version": 3
   },
   "file_extension": ".py",
   "mimetype": "text/x-python",
   "name": "python",
   "nbconvert_exporter": "python",
   "pygments_lexer": "ipython3",
   "version": "3.8.8"
  }
 },
 "nbformat": 4,
 "nbformat_minor": 4
}
