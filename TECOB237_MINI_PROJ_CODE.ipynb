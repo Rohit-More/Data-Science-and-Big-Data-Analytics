{
 "cells": [
  {
   "cell_type": "raw",
   "metadata": {
    "id": "dmiuRbsJ5M4Y"
   },
   "source": [
    "#**DSBDA Mini Project**\n",
    "##Analytics on the Covid statewise vaccination dataset\n",
    "#Rohit More TECOB237"
   ]
  },
  {
   "cell_type": "code",
   "execution_count": 3,
   "metadata": {
    "id": "lrMtaT3V5IVc"
   },
   "outputs": [],
   "source": [
    "import pandas as pd\n",
    "import numpy as np\n",
    "import matplotlib.pyplot as plt\n",
    "import seaborn as sns"
   ]
  },
  {
   "cell_type": "code",
   "execution_count": 4,
   "metadata": {
    "id": "9xOyTGojPodt"
   },
   "outputs": [],
   "source": [
    "df = pd.read_csv(\"https://raw.githubusercontent.com/chaitanyap14/covid-vaccine-statewise/main/covid_vaccine_statewise.csv\")"
   ]
  },
  {
   "cell_type": "markdown",
   "metadata": {
    "id": "JpXgBTCuWfS6"
   },
   "source": [
    "###1. Describe the dataset"
   ]
  },
  {
   "cell_type": "code",
   "execution_count": 5,
   "metadata": {
    "colab": {
     "base_uri": "https://localhost:8080/",
     "height": 334
    },
    "executionInfo": {
     "elapsed": 10,
     "status": "ok",
     "timestamp": 1652006962812,
     "user": {
      "displayName": "TECOB257_Chaitanya Palghadmal",
      "userId": "17924064590604163241"
     },
     "user_tz": -330
    },
    "id": "b9y5KqMWRNoj",
    "outputId": "76b2d0f7-7ec3-4824-fd64-c0b58b82f5d2"
   },
   "outputs": [
    {
     "data": {
      "text/html": [
       "<div>\n",
       "<style scoped>\n",
       "    .dataframe tbody tr th:only-of-type {\n",
       "        vertical-align: middle;\n",
       "    }\n",
       "\n",
       "    .dataframe tbody tr th {\n",
       "        vertical-align: top;\n",
       "    }\n",
       "\n",
       "    .dataframe thead th {\n",
       "        text-align: right;\n",
       "    }\n",
       "</style>\n",
       "<table border=\"1\" class=\"dataframe\">\n",
       "  <thead>\n",
       "    <tr style=\"text-align: right;\">\n",
       "      <th></th>\n",
       "      <th>Updated On</th>\n",
       "      <th>State</th>\n",
       "      <th>Total Doses Administered</th>\n",
       "      <th>Sessions</th>\n",
       "      <th>Sites</th>\n",
       "      <th>First Dose Administered</th>\n",
       "      <th>Second Dose Administered</th>\n",
       "      <th>Male (Doses Administered)</th>\n",
       "      <th>Female (Doses Administered)</th>\n",
       "      <th>Transgender (Doses Administered)</th>\n",
       "      <th>...</th>\n",
       "      <th>18-44 Years (Doses Administered)</th>\n",
       "      <th>45-60 Years (Doses Administered)</th>\n",
       "      <th>60+ Years (Doses Administered)</th>\n",
       "      <th>18-44 Years(Individuals Vaccinated)</th>\n",
       "      <th>45-60 Years(Individuals Vaccinated)</th>\n",
       "      <th>60+ Years(Individuals Vaccinated)</th>\n",
       "      <th>Male(Individuals Vaccinated)</th>\n",
       "      <th>Female(Individuals Vaccinated)</th>\n",
       "      <th>Transgender(Individuals Vaccinated)</th>\n",
       "      <th>Total Individuals Vaccinated</th>\n",
       "    </tr>\n",
       "  </thead>\n",
       "  <tbody>\n",
       "    <tr>\n",
       "      <th>0</th>\n",
       "      <td>16/01/2021</td>\n",
       "      <td>India</td>\n",
       "      <td>48276.0</td>\n",
       "      <td>3455.0</td>\n",
       "      <td>2957.0</td>\n",
       "      <td>48276.0</td>\n",
       "      <td>0.0</td>\n",
       "      <td>NaN</td>\n",
       "      <td>NaN</td>\n",
       "      <td>NaN</td>\n",
       "      <td>...</td>\n",
       "      <td>NaN</td>\n",
       "      <td>NaN</td>\n",
       "      <td>NaN</td>\n",
       "      <td>NaN</td>\n",
       "      <td>NaN</td>\n",
       "      <td>NaN</td>\n",
       "      <td>23757.0</td>\n",
       "      <td>24517.0</td>\n",
       "      <td>2.0</td>\n",
       "      <td>48276.0</td>\n",
       "    </tr>\n",
       "    <tr>\n",
       "      <th>1</th>\n",
       "      <td>17/01/2021</td>\n",
       "      <td>India</td>\n",
       "      <td>58604.0</td>\n",
       "      <td>8532.0</td>\n",
       "      <td>4954.0</td>\n",
       "      <td>58604.0</td>\n",
       "      <td>0.0</td>\n",
       "      <td>NaN</td>\n",
       "      <td>NaN</td>\n",
       "      <td>NaN</td>\n",
       "      <td>...</td>\n",
       "      <td>NaN</td>\n",
       "      <td>NaN</td>\n",
       "      <td>NaN</td>\n",
       "      <td>NaN</td>\n",
       "      <td>NaN</td>\n",
       "      <td>NaN</td>\n",
       "      <td>27348.0</td>\n",
       "      <td>31252.0</td>\n",
       "      <td>4.0</td>\n",
       "      <td>58604.0</td>\n",
       "    </tr>\n",
       "    <tr>\n",
       "      <th>2</th>\n",
       "      <td>18/01/2021</td>\n",
       "      <td>India</td>\n",
       "      <td>99449.0</td>\n",
       "      <td>13611.0</td>\n",
       "      <td>6583.0</td>\n",
       "      <td>99449.0</td>\n",
       "      <td>0.0</td>\n",
       "      <td>NaN</td>\n",
       "      <td>NaN</td>\n",
       "      <td>NaN</td>\n",
       "      <td>...</td>\n",
       "      <td>NaN</td>\n",
       "      <td>NaN</td>\n",
       "      <td>NaN</td>\n",
       "      <td>NaN</td>\n",
       "      <td>NaN</td>\n",
       "      <td>NaN</td>\n",
       "      <td>41361.0</td>\n",
       "      <td>58083.0</td>\n",
       "      <td>5.0</td>\n",
       "      <td>99449.0</td>\n",
       "    </tr>\n",
       "    <tr>\n",
       "      <th>3</th>\n",
       "      <td>19/01/2021</td>\n",
       "      <td>India</td>\n",
       "      <td>195525.0</td>\n",
       "      <td>17855.0</td>\n",
       "      <td>7951.0</td>\n",
       "      <td>195525.0</td>\n",
       "      <td>0.0</td>\n",
       "      <td>NaN</td>\n",
       "      <td>NaN</td>\n",
       "      <td>NaN</td>\n",
       "      <td>...</td>\n",
       "      <td>NaN</td>\n",
       "      <td>NaN</td>\n",
       "      <td>NaN</td>\n",
       "      <td>NaN</td>\n",
       "      <td>NaN</td>\n",
       "      <td>NaN</td>\n",
       "      <td>81901.0</td>\n",
       "      <td>113613.0</td>\n",
       "      <td>11.0</td>\n",
       "      <td>195525.0</td>\n",
       "    </tr>\n",
       "    <tr>\n",
       "      <th>4</th>\n",
       "      <td>20/01/2021</td>\n",
       "      <td>India</td>\n",
       "      <td>251280.0</td>\n",
       "      <td>25472.0</td>\n",
       "      <td>10504.0</td>\n",
       "      <td>251280.0</td>\n",
       "      <td>0.0</td>\n",
       "      <td>NaN</td>\n",
       "      <td>NaN</td>\n",
       "      <td>NaN</td>\n",
       "      <td>...</td>\n",
       "      <td>NaN</td>\n",
       "      <td>NaN</td>\n",
       "      <td>NaN</td>\n",
       "      <td>NaN</td>\n",
       "      <td>NaN</td>\n",
       "      <td>NaN</td>\n",
       "      <td>98111.0</td>\n",
       "      <td>153145.0</td>\n",
       "      <td>24.0</td>\n",
       "      <td>251280.0</td>\n",
       "    </tr>\n",
       "  </tbody>\n",
       "</table>\n",
       "<p>5 rows × 24 columns</p>\n",
       "</div>"
      ],
      "text/plain": [
       "   Updated On  State  Total Doses Administered  Sessions   Sites   \\\n",
       "0  16/01/2021  India                   48276.0    3455.0   2957.0   \n",
       "1  17/01/2021  India                   58604.0    8532.0   4954.0   \n",
       "2  18/01/2021  India                   99449.0   13611.0   6583.0   \n",
       "3  19/01/2021  India                  195525.0   17855.0   7951.0   \n",
       "4  20/01/2021  India                  251280.0   25472.0  10504.0   \n",
       "\n",
       "   First Dose Administered  Second Dose Administered  \\\n",
       "0                  48276.0                       0.0   \n",
       "1                  58604.0                       0.0   \n",
       "2                  99449.0                       0.0   \n",
       "3                 195525.0                       0.0   \n",
       "4                 251280.0                       0.0   \n",
       "\n",
       "   Male (Doses Administered)  Female (Doses Administered)  \\\n",
       "0                        NaN                          NaN   \n",
       "1                        NaN                          NaN   \n",
       "2                        NaN                          NaN   \n",
       "3                        NaN                          NaN   \n",
       "4                        NaN                          NaN   \n",
       "\n",
       "   Transgender (Doses Administered)  ...  18-44 Years (Doses Administered)  \\\n",
       "0                               NaN  ...                               NaN   \n",
       "1                               NaN  ...                               NaN   \n",
       "2                               NaN  ...                               NaN   \n",
       "3                               NaN  ...                               NaN   \n",
       "4                               NaN  ...                               NaN   \n",
       "\n",
       "   45-60 Years (Doses Administered)  60+ Years (Doses Administered)  \\\n",
       "0                               NaN                             NaN   \n",
       "1                               NaN                             NaN   \n",
       "2                               NaN                             NaN   \n",
       "3                               NaN                             NaN   \n",
       "4                               NaN                             NaN   \n",
       "\n",
       "   18-44 Years(Individuals Vaccinated)  45-60 Years(Individuals Vaccinated)  \\\n",
       "0                                  NaN                                  NaN   \n",
       "1                                  NaN                                  NaN   \n",
       "2                                  NaN                                  NaN   \n",
       "3                                  NaN                                  NaN   \n",
       "4                                  NaN                                  NaN   \n",
       "\n",
       "   60+ Years(Individuals Vaccinated)  Male(Individuals Vaccinated)  \\\n",
       "0                                NaN                       23757.0   \n",
       "1                                NaN                       27348.0   \n",
       "2                                NaN                       41361.0   \n",
       "3                                NaN                       81901.0   \n",
       "4                                NaN                       98111.0   \n",
       "\n",
       "   Female(Individuals Vaccinated)  Transgender(Individuals Vaccinated)  \\\n",
       "0                         24517.0                                  2.0   \n",
       "1                         31252.0                                  4.0   \n",
       "2                         58083.0                                  5.0   \n",
       "3                        113613.0                                 11.0   \n",
       "4                        153145.0                                 24.0   \n",
       "\n",
       "   Total Individuals Vaccinated  \n",
       "0                       48276.0  \n",
       "1                       58604.0  \n",
       "2                       99449.0  \n",
       "3                      195525.0  \n",
       "4                      251280.0  \n",
       "\n",
       "[5 rows x 24 columns]"
      ]
     },
     "execution_count": 5,
     "metadata": {},
     "output_type": "execute_result"
    }
   ],
   "source": [
    "df.head()"
   ]
  },
  {
   "cell_type": "code",
   "execution_count": 6,
   "metadata": {
    "colab": {
     "base_uri": "https://localhost:8080/"
    },
    "executionInfo": {
     "elapsed": 10,
     "status": "ok",
     "timestamp": 1652006962813,
     "user": {
      "displayName": "TECOB257_Chaitanya Palghadmal",
      "userId": "17924064590604163241"
     },
     "user_tz": -330
    },
    "id": "4yADLdZ3ROhI",
    "outputId": "57bedda5-4fa7-4b97-aa7a-9ef9b7a41e93"
   },
   "outputs": [
    {
     "data": {
      "text/plain": [
       "(7845, 24)"
      ]
     },
     "execution_count": 6,
     "metadata": {},
     "output_type": "execute_result"
    }
   ],
   "source": [
    "df.shape"
   ]
  },
  {
   "cell_type": "code",
   "execution_count": 7,
   "metadata": {
    "colab": {
     "base_uri": "https://localhost:8080/",
     "height": 428
    },
    "executionInfo": {
     "elapsed": 410,
     "status": "ok",
     "timestamp": 1652007201266,
     "user": {
      "displayName": "TECOB257_Chaitanya Palghadmal",
      "userId": "17924064590604163241"
     },
     "user_tz": -330
    },
    "id": "IHKCOfisSetr",
    "outputId": "cc9bcb7d-abb1-4d90-ef59-2aa3b6283135"
   },
   "outputs": [
    {
     "data": {
      "text/html": [
       "<div>\n",
       "<style scoped>\n",
       "    .dataframe tbody tr th:only-of-type {\n",
       "        vertical-align: middle;\n",
       "    }\n",
       "\n",
       "    .dataframe tbody tr th {\n",
       "        vertical-align: top;\n",
       "    }\n",
       "\n",
       "    .dataframe thead th {\n",
       "        text-align: right;\n",
       "    }\n",
       "</style>\n",
       "<table border=\"1\" class=\"dataframe\">\n",
       "  <thead>\n",
       "    <tr style=\"text-align: right;\">\n",
       "      <th></th>\n",
       "      <th>Total Doses Administered</th>\n",
       "      <th>Sessions</th>\n",
       "      <th>Sites</th>\n",
       "      <th>First Dose Administered</th>\n",
       "      <th>Second Dose Administered</th>\n",
       "      <th>Male (Doses Administered)</th>\n",
       "      <th>Female (Doses Administered)</th>\n",
       "      <th>Transgender (Doses Administered)</th>\n",
       "      <th>Covaxin (Doses Administered)</th>\n",
       "      <th>CoviShield (Doses Administered)</th>\n",
       "      <th>...</th>\n",
       "      <th>18-44 Years (Doses Administered)</th>\n",
       "      <th>45-60 Years (Doses Administered)</th>\n",
       "      <th>60+ Years (Doses Administered)</th>\n",
       "      <th>18-44 Years(Individuals Vaccinated)</th>\n",
       "      <th>45-60 Years(Individuals Vaccinated)</th>\n",
       "      <th>60+ Years(Individuals Vaccinated)</th>\n",
       "      <th>Male(Individuals Vaccinated)</th>\n",
       "      <th>Female(Individuals Vaccinated)</th>\n",
       "      <th>Transgender(Individuals Vaccinated)</th>\n",
       "      <th>Total Individuals Vaccinated</th>\n",
       "    </tr>\n",
       "  </thead>\n",
       "  <tbody>\n",
       "    <tr>\n",
       "      <th>count</th>\n",
       "      <td>7.621000e+03</td>\n",
       "      <td>7.621000e+03</td>\n",
       "      <td>7621.000000</td>\n",
       "      <td>7.621000e+03</td>\n",
       "      <td>7.621000e+03</td>\n",
       "      <td>7.461000e+03</td>\n",
       "      <td>7.461000e+03</td>\n",
       "      <td>7461.000000</td>\n",
       "      <td>7.621000e+03</td>\n",
       "      <td>7.621000e+03</td>\n",
       "      <td>...</td>\n",
       "      <td>1.702000e+03</td>\n",
       "      <td>1.702000e+03</td>\n",
       "      <td>1.702000e+03</td>\n",
       "      <td>3.733000e+03</td>\n",
       "      <td>3.734000e+03</td>\n",
       "      <td>3.734000e+03</td>\n",
       "      <td>1.600000e+02</td>\n",
       "      <td>1.600000e+02</td>\n",
       "      <td>160.000000</td>\n",
       "      <td>5.919000e+03</td>\n",
       "    </tr>\n",
       "    <tr>\n",
       "      <th>mean</th>\n",
       "      <td>9.188171e+06</td>\n",
       "      <td>4.792358e+05</td>\n",
       "      <td>2282.872064</td>\n",
       "      <td>7.414415e+06</td>\n",
       "      <td>1.773755e+06</td>\n",
       "      <td>3.620156e+06</td>\n",
       "      <td>3.168416e+06</td>\n",
       "      <td>1162.978019</td>\n",
       "      <td>1.044669e+06</td>\n",
       "      <td>8.126553e+06</td>\n",
       "      <td>...</td>\n",
       "      <td>8.773958e+06</td>\n",
       "      <td>7.442161e+06</td>\n",
       "      <td>5.641605e+06</td>\n",
       "      <td>1.395895e+06</td>\n",
       "      <td>2.916515e+06</td>\n",
       "      <td>2.627444e+06</td>\n",
       "      <td>4.461687e+07</td>\n",
       "      <td>3.951018e+07</td>\n",
       "      <td>12370.543750</td>\n",
       "      <td>4.547842e+06</td>\n",
       "    </tr>\n",
       "    <tr>\n",
       "      <th>std</th>\n",
       "      <td>3.746180e+07</td>\n",
       "      <td>1.911511e+06</td>\n",
       "      <td>7275.973730</td>\n",
       "      <td>2.995209e+07</td>\n",
       "      <td>7.570382e+06</td>\n",
       "      <td>1.737938e+07</td>\n",
       "      <td>1.515310e+07</td>\n",
       "      <td>5931.353995</td>\n",
       "      <td>4.452259e+06</td>\n",
       "      <td>3.298414e+07</td>\n",
       "      <td>...</td>\n",
       "      <td>2.660829e+07</td>\n",
       "      <td>2.225999e+07</td>\n",
       "      <td>1.681650e+07</td>\n",
       "      <td>5.501454e+06</td>\n",
       "      <td>9.567607e+06</td>\n",
       "      <td>8.192225e+06</td>\n",
       "      <td>3.950749e+07</td>\n",
       "      <td>3.417684e+07</td>\n",
       "      <td>12485.026753</td>\n",
       "      <td>1.834182e+07</td>\n",
       "    </tr>\n",
       "    <tr>\n",
       "      <th>min</th>\n",
       "      <td>7.000000e+00</td>\n",
       "      <td>0.000000e+00</td>\n",
       "      <td>0.000000</td>\n",
       "      <td>7.000000e+00</td>\n",
       "      <td>0.000000e+00</td>\n",
       "      <td>0.000000e+00</td>\n",
       "      <td>2.000000e+00</td>\n",
       "      <td>0.000000</td>\n",
       "      <td>0.000000e+00</td>\n",
       "      <td>7.000000e+00</td>\n",
       "      <td>...</td>\n",
       "      <td>2.662400e+04</td>\n",
       "      <td>1.681500e+04</td>\n",
       "      <td>9.994000e+03</td>\n",
       "      <td>1.059000e+03</td>\n",
       "      <td>1.136000e+03</td>\n",
       "      <td>5.580000e+02</td>\n",
       "      <td>2.375700e+04</td>\n",
       "      <td>2.451700e+04</td>\n",
       "      <td>2.000000</td>\n",
       "      <td>7.000000e+00</td>\n",
       "    </tr>\n",
       "    <tr>\n",
       "      <th>25%</th>\n",
       "      <td>1.356570e+05</td>\n",
       "      <td>6.004000e+03</td>\n",
       "      <td>69.000000</td>\n",
       "      <td>1.166320e+05</td>\n",
       "      <td>1.283100e+04</td>\n",
       "      <td>5.655500e+04</td>\n",
       "      <td>5.210700e+04</td>\n",
       "      <td>8.000000</td>\n",
       "      <td>0.000000e+00</td>\n",
       "      <td>1.331340e+05</td>\n",
       "      <td>...</td>\n",
       "      <td>4.344842e+05</td>\n",
       "      <td>2.326275e+05</td>\n",
       "      <td>1.285605e+05</td>\n",
       "      <td>5.655400e+04</td>\n",
       "      <td>9.248225e+04</td>\n",
       "      <td>5.615975e+04</td>\n",
       "      <td>5.739350e+06</td>\n",
       "      <td>5.023407e+06</td>\n",
       "      <td>1278.750000</td>\n",
       "      <td>7.427550e+04</td>\n",
       "    </tr>\n",
       "    <tr>\n",
       "      <th>50%</th>\n",
       "      <td>8.182020e+05</td>\n",
       "      <td>4.547000e+04</td>\n",
       "      <td>597.000000</td>\n",
       "      <td>6.614590e+05</td>\n",
       "      <td>1.388180e+05</td>\n",
       "      <td>3.897850e+05</td>\n",
       "      <td>3.342380e+05</td>\n",
       "      <td>113.000000</td>\n",
       "      <td>1.185100e+04</td>\n",
       "      <td>7.567360e+05</td>\n",
       "      <td>...</td>\n",
       "      <td>3.095970e+06</td>\n",
       "      <td>2.695938e+06</td>\n",
       "      <td>1.805696e+06</td>\n",
       "      <td>2.947270e+05</td>\n",
       "      <td>8.330395e+05</td>\n",
       "      <td>7.887425e+05</td>\n",
       "      <td>3.716590e+07</td>\n",
       "      <td>3.365402e+07</td>\n",
       "      <td>8007.500000</td>\n",
       "      <td>4.022880e+05</td>\n",
       "    </tr>\n",
       "    <tr>\n",
       "      <th>75%</th>\n",
       "      <td>6.625243e+06</td>\n",
       "      <td>3.428690e+05</td>\n",
       "      <td>1708.000000</td>\n",
       "      <td>5.387805e+06</td>\n",
       "      <td>1.166434e+06</td>\n",
       "      <td>2.735777e+06</td>\n",
       "      <td>2.561513e+06</td>\n",
       "      <td>800.000000</td>\n",
       "      <td>7.579300e+05</td>\n",
       "      <td>6.007817e+06</td>\n",
       "      <td>...</td>\n",
       "      <td>7.366241e+06</td>\n",
       "      <td>6.969726e+06</td>\n",
       "      <td>5.294763e+06</td>\n",
       "      <td>9.105160e+05</td>\n",
       "      <td>2.499280e+06</td>\n",
       "      <td>2.337874e+06</td>\n",
       "      <td>7.441663e+07</td>\n",
       "      <td>6.685368e+07</td>\n",
       "      <td>19851.000000</td>\n",
       "      <td>3.501562e+06</td>\n",
       "    </tr>\n",
       "    <tr>\n",
       "      <th>max</th>\n",
       "      <td>5.132284e+08</td>\n",
       "      <td>3.501031e+07</td>\n",
       "      <td>73933.000000</td>\n",
       "      <td>4.001504e+08</td>\n",
       "      <td>1.130780e+08</td>\n",
       "      <td>2.701636e+08</td>\n",
       "      <td>2.395186e+08</td>\n",
       "      <td>98275.000000</td>\n",
       "      <td>6.236742e+07</td>\n",
       "      <td>4.468251e+08</td>\n",
       "      <td>...</td>\n",
       "      <td>2.243304e+08</td>\n",
       "      <td>1.667575e+08</td>\n",
       "      <td>1.186927e+08</td>\n",
       "      <td>9.224315e+07</td>\n",
       "      <td>9.096888e+07</td>\n",
       "      <td>6.731098e+07</td>\n",
       "      <td>1.349420e+08</td>\n",
       "      <td>1.156684e+08</td>\n",
       "      <td>46462.000000</td>\n",
       "      <td>2.506569e+08</td>\n",
       "    </tr>\n",
       "  </tbody>\n",
       "</table>\n",
       "<p>8 rows × 22 columns</p>\n",
       "</div>"
      ],
      "text/plain": [
       "       Total Doses Administered      Sessions        Sites   \\\n",
       "count              7.621000e+03  7.621000e+03   7621.000000   \n",
       "mean               9.188171e+06  4.792358e+05   2282.872064   \n",
       "std                3.746180e+07  1.911511e+06   7275.973730   \n",
       "min                7.000000e+00  0.000000e+00      0.000000   \n",
       "25%                1.356570e+05  6.004000e+03     69.000000   \n",
       "50%                8.182020e+05  4.547000e+04    597.000000   \n",
       "75%                6.625243e+06  3.428690e+05   1708.000000   \n",
       "max                5.132284e+08  3.501031e+07  73933.000000   \n",
       "\n",
       "       First Dose Administered  Second Dose Administered  \\\n",
       "count             7.621000e+03              7.621000e+03   \n",
       "mean              7.414415e+06              1.773755e+06   \n",
       "std               2.995209e+07              7.570382e+06   \n",
       "min               7.000000e+00              0.000000e+00   \n",
       "25%               1.166320e+05              1.283100e+04   \n",
       "50%               6.614590e+05              1.388180e+05   \n",
       "75%               5.387805e+06              1.166434e+06   \n",
       "max               4.001504e+08              1.130780e+08   \n",
       "\n",
       "       Male (Doses Administered)  Female (Doses Administered)  \\\n",
       "count               7.461000e+03                 7.461000e+03   \n",
       "mean                3.620156e+06                 3.168416e+06   \n",
       "std                 1.737938e+07                 1.515310e+07   \n",
       "min                 0.000000e+00                 2.000000e+00   \n",
       "25%                 5.655500e+04                 5.210700e+04   \n",
       "50%                 3.897850e+05                 3.342380e+05   \n",
       "75%                 2.735777e+06                 2.561513e+06   \n",
       "max                 2.701636e+08                 2.395186e+08   \n",
       "\n",
       "       Transgender (Doses Administered)   Covaxin (Doses Administered)  \\\n",
       "count                       7461.000000                   7.621000e+03   \n",
       "mean                        1162.978019                   1.044669e+06   \n",
       "std                         5931.353995                   4.452259e+06   \n",
       "min                            0.000000                   0.000000e+00   \n",
       "25%                            8.000000                   0.000000e+00   \n",
       "50%                          113.000000                   1.185100e+04   \n",
       "75%                          800.000000                   7.579300e+05   \n",
       "max                        98275.000000                   6.236742e+07   \n",
       "\n",
       "       CoviShield (Doses Administered)  ...  18-44 Years (Doses Administered)  \\\n",
       "count                     7.621000e+03  ...                      1.702000e+03   \n",
       "mean                      8.126553e+06  ...                      8.773958e+06   \n",
       "std                       3.298414e+07  ...                      2.660829e+07   \n",
       "min                       7.000000e+00  ...                      2.662400e+04   \n",
       "25%                       1.331340e+05  ...                      4.344842e+05   \n",
       "50%                       7.567360e+05  ...                      3.095970e+06   \n",
       "75%                       6.007817e+06  ...                      7.366241e+06   \n",
       "max                       4.468251e+08  ...                      2.243304e+08   \n",
       "\n",
       "       45-60 Years (Doses Administered)  60+ Years (Doses Administered)  \\\n",
       "count                      1.702000e+03                    1.702000e+03   \n",
       "mean                       7.442161e+06                    5.641605e+06   \n",
       "std                        2.225999e+07                    1.681650e+07   \n",
       "min                        1.681500e+04                    9.994000e+03   \n",
       "25%                        2.326275e+05                    1.285605e+05   \n",
       "50%                        2.695938e+06                    1.805696e+06   \n",
       "75%                        6.969726e+06                    5.294763e+06   \n",
       "max                        1.667575e+08                    1.186927e+08   \n",
       "\n",
       "       18-44 Years(Individuals Vaccinated)  \\\n",
       "count                         3.733000e+03   \n",
       "mean                          1.395895e+06   \n",
       "std                           5.501454e+06   \n",
       "min                           1.059000e+03   \n",
       "25%                           5.655400e+04   \n",
       "50%                           2.947270e+05   \n",
       "75%                           9.105160e+05   \n",
       "max                           9.224315e+07   \n",
       "\n",
       "       45-60 Years(Individuals Vaccinated)  60+ Years(Individuals Vaccinated)  \\\n",
       "count                         3.734000e+03                       3.734000e+03   \n",
       "mean                          2.916515e+06                       2.627444e+06   \n",
       "std                           9.567607e+06                       8.192225e+06   \n",
       "min                           1.136000e+03                       5.580000e+02   \n",
       "25%                           9.248225e+04                       5.615975e+04   \n",
       "50%                           8.330395e+05                       7.887425e+05   \n",
       "75%                           2.499280e+06                       2.337874e+06   \n",
       "max                           9.096888e+07                       6.731098e+07   \n",
       "\n",
       "       Male(Individuals Vaccinated)  Female(Individuals Vaccinated)  \\\n",
       "count                  1.600000e+02                    1.600000e+02   \n",
       "mean                   4.461687e+07                    3.951018e+07   \n",
       "std                    3.950749e+07                    3.417684e+07   \n",
       "min                    2.375700e+04                    2.451700e+04   \n",
       "25%                    5.739350e+06                    5.023407e+06   \n",
       "50%                    3.716590e+07                    3.365402e+07   \n",
       "75%                    7.441663e+07                    6.685368e+07   \n",
       "max                    1.349420e+08                    1.156684e+08   \n",
       "\n",
       "       Transgender(Individuals Vaccinated)  Total Individuals Vaccinated  \n",
       "count                           160.000000                  5.919000e+03  \n",
       "mean                          12370.543750                  4.547842e+06  \n",
       "std                           12485.026753                  1.834182e+07  \n",
       "min                               2.000000                  7.000000e+00  \n",
       "25%                            1278.750000                  7.427550e+04  \n",
       "50%                            8007.500000                  4.022880e+05  \n",
       "75%                           19851.000000                  3.501562e+06  \n",
       "max                           46462.000000                  2.506569e+08  \n",
       "\n",
       "[8 rows x 22 columns]"
      ]
     },
     "execution_count": 7,
     "metadata": {},
     "output_type": "execute_result"
    }
   ],
   "source": [
    "df.describe()"
   ]
  },
  {
   "cell_type": "code",
   "execution_count": 8,
   "metadata": {
    "colab": {
     "base_uri": "https://localhost:8080/"
    },
    "executionInfo": {
     "elapsed": 360,
     "status": "ok",
     "timestamp": 1652007240670,
     "user": {
      "displayName": "TECOB257_Chaitanya Palghadmal",
      "userId": "17924064590604163241"
     },
     "user_tz": -330
    },
    "id": "loFz8lxzTdBM",
    "outputId": "e3fd0e54-09ff-49cd-deb8-be4df1a8200f"
   },
   "outputs": [
    {
     "data": {
      "text/plain": [
       "Index(['Updated On', 'State', 'Total Doses Administered', 'Sessions',\n",
       "       ' Sites ', 'First Dose Administered', 'Second Dose Administered',\n",
       "       'Male (Doses Administered)', 'Female (Doses Administered)',\n",
       "       'Transgender (Doses Administered)', ' Covaxin (Doses Administered)',\n",
       "       'CoviShield (Doses Administered)', 'Sputnik V (Doses Administered)',\n",
       "       'AEFI', '18-44 Years (Doses Administered)',\n",
       "       '45-60 Years (Doses Administered)', '60+ Years (Doses Administered)',\n",
       "       '18-44 Years(Individuals Vaccinated)',\n",
       "       '45-60 Years(Individuals Vaccinated)',\n",
       "       '60+ Years(Individuals Vaccinated)', 'Male(Individuals Vaccinated)',\n",
       "       'Female(Individuals Vaccinated)', 'Transgender(Individuals Vaccinated)',\n",
       "       'Total Individuals Vaccinated'],\n",
       "      dtype='object')"
      ]
     },
     "execution_count": 8,
     "metadata": {},
     "output_type": "execute_result"
    }
   ],
   "source": [
    "df.columns"
   ]
  },
  {
   "cell_type": "markdown",
   "metadata": {
    "id": "87AtGZ_wWn1K"
   },
   "source": [
    "###2. Number of persons statewise vaccinated for first dose in India"
   ]
  },
  {
   "cell_type": "code",
   "execution_count": 9,
   "metadata": {
    "colab": {
     "base_uri": "https://localhost:8080/"
    },
    "executionInfo": {
     "elapsed": 365,
     "status": "ok",
     "timestamp": 1652009579100,
     "user": {
      "displayName": "TECOB257_Chaitanya Palghadmal",
      "userId": "17924064590604163241"
     },
     "user_tz": -330
    },
    "id": "0OBFdobmTgRJ",
    "outputId": "9f76705b-f81b-4111-f655-ff582ff539dd"
   },
   "outputs": [
    {
     "data": {
      "text/plain": [
       "State\n",
       "Andaman and Nicobar Islands                    216046.0\n",
       "Andhra Pradesh                               17628583.0\n",
       "Arunachal Pradesh                              692475.0\n",
       "Assam                                        10495293.0\n",
       "Bihar                                        23350171.0\n",
       "Chandigarh                                     700285.0\n",
       "Chhattisgarh                                  9181482.0\n",
       "Dadra and Nagar Haveli and Daman and Diu       584370.0\n",
       "Delhi                                         7835546.0\n",
       "Goa                                           1094392.0\n",
       "Gujarat                                      28101222.0\n",
       "Haryana                                      10086831.0\n",
       "Himachal Pradesh                              4249849.0\n",
       "India                                       400150406.0\n",
       "Jammu and Kashmir                             5318516.0\n",
       "Jharkhand                                     8382280.0\n",
       "Karnataka                                    25847691.0\n",
       "Kerala                                       15670747.0\n",
       "Ladakh                                         188699.0\n",
       "Lakshadweep                                     51156.0\n",
       "Madhya Pradesh                               29723036.0\n",
       "Maharashtra                                  35040812.0\n",
       "Manipur                                       1159424.0\n",
       "Meghalaya                                      938572.0\n",
       "Mizoram                                        654946.0\n",
       "Nagaland                                       632120.0\n",
       "Odisha                                       13954592.0\n",
       "Puducherry                                     601591.0\n",
       "Punjab                                        8005636.0\n",
       "Rajasthan                                    27008606.0\n",
       "Sikkim                                         497851.0\n",
       "Tamil Nadu                                   20836674.0\n",
       "Telangana                                    11649268.0\n",
       "Tripura                                       2411195.0\n",
       "Uttar Pradesh                                45932488.0\n",
       "Uttarakhand                                   5070544.0\n",
       "West Bengal                                  23257417.0\n",
       "Name: First Dose Administered, dtype: float64"
      ]
     },
     "execution_count": 9,
     "metadata": {},
     "output_type": "execute_result"
    }
   ],
   "source": [
    "df['First Dose Administered'].groupby(df[\"State\"]).max()"
   ]
  },
  {
   "cell_type": "code",
   "execution_count": 10,
   "metadata": {
    "colab": {
     "base_uri": "https://localhost:8080/"
    },
    "executionInfo": {
     "elapsed": 393,
     "status": "ok",
     "timestamp": 1652008360612,
     "user": {
      "displayName": "TECOB257_Chaitanya Palghadmal",
      "userId": "17924064590604163241"
     },
     "user_tz": -330
    },
    "id": "XeJBc3rdWTYt",
    "outputId": "45d476a6-7ad8-4e2d-ff3c-0d3de1cda56e"
   },
   "outputs": [
    {
     "data": {
      "text/plain": [
       "400150406.0"
      ]
     },
     "execution_count": 10,
     "metadata": {},
     "output_type": "execute_result"
    }
   ],
   "source": [
    "#Total number of people with first dose administered in India\n",
    "df['First Dose Administered'].groupby(df[\"State\"]).max()[\"India\"]"
   ]
  },
  {
   "cell_type": "code",
   "execution_count": 11,
   "metadata": {
    "colab": {
     "base_uri": "https://localhost:8080/",
     "height": 638
    },
    "executionInfo": {
     "elapsed": 2611,
     "status": "ok",
     "timestamp": 1652009604663,
     "user": {
      "displayName": "TECOB257_Chaitanya Palghadmal",
      "userId": "17924064590604163241"
     },
     "user_tz": -330
    },
    "id": "eUPPluOVcf1E",
    "outputId": "0c6af6fb-a16a-4a61-9187-204ffd11d37a"
   },
   "outputs": [
    {
     "data": {
      "text/plain": [
       "Text(0.5, 1.0, 'Number of persons statewise vaccinated for first dose in India')"
      ]
     },
     "execution_count": 11,
     "metadata": {},
     "output_type": "execute_result"
    },
    {
     "data": {
      "image/png": "[encoded data removed]",
      "text/plain": [
       "<Figure size 1440x720 with 1 Axes>"
      ]
     },
     "metadata": {
      "needs_background": "light"
     },
     "output_type": "display_data"
    }
   ],
   "source": [
    "plt.figure(figsize=(20, 10))\n",
    "sns.barplot(y=df[df[\"State\"]!=\"India\"][\"State\"], x=df[\"First Dose Administered\"])\n",
    "plt.title(\"Number of persons statewise vaccinated for first dose in India\")"
   ]
  },
  {
   "cell_type": "markdown",
   "metadata": {
    "id": "jJr8ZIruXykN"
   },
   "source": [
    "###3. Number of persons state wise vaccinated for second dose in India"
   ]
  },
  {
   "cell_type": "code",
   "execution_count": 12,
   "metadata": {
    "colab": {
     "base_uri": "https://localhost:8080/"
    },
    "executionInfo": {
     "elapsed": 375,
     "status": "ok",
     "timestamp": 1652009642055,
     "user": {
      "displayName": "TECOB257_Chaitanya Palghadmal",
      "userId": "17924064590604163241"
     },
     "user_tz": -330
    },
    "id": "Z9aMc93PVWis",
    "outputId": "ce6627e2-44e1-4439-f139-60bb9f1739c3"
   },
   "outputs": [
    {
     "data": {
      "text/plain": [
       "State\n",
       "Andaman and Nicobar Islands                     94597.0\n",
       "Andhra Pradesh                                6214312.0\n",
       "Arunachal Pradesh                              186619.0\n",
       "Assam                                         2208577.0\n",
       "Bihar                                         4484768.0\n",
       "Chandigarh                                     223534.0\n",
       "Chhattisgarh                                  2587695.0\n",
       "Dadra and Nagar Haveli and Daman and Diu        80851.0\n",
       "Delhi                                         3000536.0\n",
       "Goa                                            302519.0\n",
       "Gujarat                                       9051153.0\n",
       "Haryana                                       2923550.0\n",
       "Himachal Pradesh                              1382592.0\n",
       "India                                       113077994.0\n",
       "Jammu and Kashmir                             1489826.0\n",
       "Jharkhand                                     1996014.0\n",
       "Karnataka                                     7432852.0\n",
       "Kerala                                        6426984.0\n",
       "Ladakh                                          70337.0\n",
       "Lakshadweep                                     17139.0\n",
       "Madhya Pradesh                                5733640.0\n",
       "Maharashtra                                  12112554.0\n",
       "Manipur                                        246694.0\n",
       "Meghalaya                                      231982.0\n",
       "Mizoram                                        206773.0\n",
       "Nagaland                                       159388.0\n",
       "Odisha                                        4200094.0\n",
       "Puducherry                                     151771.0\n",
       "Punjab                                        2285629.0\n",
       "Rajasthan                                     8375056.0\n",
       "Sikkim                                         151538.0\n",
       "Tamil Nadu                                    4686034.0\n",
       "Telangana                                     3965624.0\n",
       "Tripura                                        804099.0\n",
       "Uttar Pradesh                                 8515236.0\n",
       "Uttarakhand                                   1596572.0\n",
       "West Bengal                                   9132961.0\n",
       "Name: Second Dose Administered, dtype: float64"
      ]
     },
     "execution_count": 12,
     "metadata": {},
     "output_type": "execute_result"
    }
   ],
   "source": [
    "df['Second Dose Administered'].groupby(df[\"State\"]).max()"
   ]
  },
  {
   "cell_type": "code",
   "execution_count": 13,
   "metadata": {
    "colab": {
     "base_uri": "https://localhost:8080/"
    },
    "executionInfo": {
     "elapsed": 377,
     "status": "ok",
     "timestamp": 1652009626469,
     "user": {
      "displayName": "TECOB257_Chaitanya Palghadmal",
      "userId": "17924064590604163241"
     },
     "user_tz": -330
    },
    "id": "qCUzSAMxWZkc",
    "outputId": "9cc87156-929c-4370-c7ff-50e4d30d79df"
   },
   "outputs": [
    {
     "data": {
      "text/plain": [
       "113077994.0"
      ]
     },
     "execution_count": 13,
     "metadata": {},
     "output_type": "execute_result"
    }
   ],
   "source": [
    "#Total number of people with second dose administered in India\n",
    "df['Second Dose Administered'].groupby(df[\"State\"]).max()[\"India\"]"
   ]
  },
  {
   "cell_type": "code",
   "execution_count": 14,
   "metadata": {
    "colab": {
     "base_uri": "https://localhost:8080/",
     "height": 638
    },
    "executionInfo": {
     "elapsed": 2251,
     "status": "ok",
     "timestamp": 1652009623792,
     "user": {
      "displayName": "TECOB257_Chaitanya Palghadmal",
      "userId": "17924064590604163241"
     },
     "user_tz": -330
    },
    "id": "nrckbnHNck7j",
    "outputId": "81f12f95-bed9-4d26-bb0f-6cad5f6dcd14"
   },
   "outputs": [
    {
     "data": {
      "text/plain": [
       "Text(0.5, 1.0, 'Number of persons statewise vaccinated for second dose in India')"
      ]
     },
     "execution_count": 14,
     "metadata": {},
     "output_type": "execute_result"
    },
    {
     "data": {
      "image/png": "[encoded data removed]",
      "text/plain": [
       "<Figure size 1440x720 with 1 Axes>"
      ]
     },
     "metadata": {
      "needs_background": "light"
     },
     "output_type": "display_data"
    }
   ],
   "source": [
    "plt.figure(figsize=(20, 10))\n",
    "sns.barplot(y=df[df[\"State\"]!=\"India\"][\"State\"], x=df[\"Second Dose Administered\"])\n",
    "plt.title(\"Number of persons statewise vaccinated for second dose in India\")"
   ]
  },
  {
   "cell_type": "markdown",
   "metadata": {
    "id": "bfvdUzZpYGFw"
   },
   "source": [
    "###4. Number of Males vaccinated"
   ]
  },
  {
   "cell_type": "code",
   "execution_count": 15,
   "metadata": {
    "colab": {
     "base_uri": "https://localhost:8080/"
    },
    "executionInfo": {
     "elapsed": 632,
     "status": "ok",
     "timestamp": 1652007890835,
     "user": {
      "displayName": "TECOB257_Chaitanya Palghadmal",
      "userId": "17924064590604163241"
     },
     "user_tz": -330
    },
    "id": "LU8i3NeiVxkU",
    "outputId": "68d13791-647a-4010-fff7-ff139b97abcd"
   },
   "outputs": [
    {
     "data": {
      "text/plain": [
       "134941971.0"
      ]
     },
     "execution_count": 15,
     "metadata": {},
     "output_type": "execute_result"
    }
   ],
   "source": [
    "df['Male(Individuals Vaccinated)'].max()"
   ]
  },
  {
   "cell_type": "markdown",
   "metadata": {
    "id": "307ct6JZYKCV"
   },
   "source": [
    "###5. Number of Females vaccinated"
   ]
  },
  {
   "cell_type": "code",
   "execution_count": 16,
   "metadata": {
    "colab": {
     "base_uri": "https://localhost:8080/"
    },
    "executionInfo": {
     "elapsed": 635,
     "status": "ok",
     "timestamp": 1652007934754,
     "user": {
      "displayName": "TECOB257_Chaitanya Palghadmal",
      "userId": "17924064590604163241"
     },
     "user_tz": -330
    },
    "id": "Ln1_FOrZWDgS",
    "outputId": "e1576858-d46d-440c-8d7c-d6eee43b33a8"
   },
   "outputs": [
    {
     "data": {
      "text/plain": [
       "115668447.0"
      ]
     },
     "execution_count": 16,
     "metadata": {},
     "output_type": "execute_result"
    }
   ],
   "source": [
    "df['Female(Individuals Vaccinated)'].max()"
   ]
  }
 ],
 "metadata": {
  "colab": {
   "authorship_tag": "ABX9TyPnhhyTGmJfVOBGuyPaxRVi",
   "collapsed_sections": [],
   "name": "DSBDA Mini Project.ipynb",
   "provenance": []
  },
  "kernelspec": {
   "display_name": "Python 3",
   "language": "python",
   "name": "python3"
  },
  "language_info": {
   "codemirror_mode": {
    "name": "ipython",
    "version": 3
   },
   "file_extension": ".py",
   "mimetype": "text/x-python",
   "name": "python",
   "nbconvert_exporter": "python",
   "pygments_lexer": "ipython3",
   "version": "3.8.8"
  }
 },
 "nbformat": 4,
 "nbformat_minor": 1
}
